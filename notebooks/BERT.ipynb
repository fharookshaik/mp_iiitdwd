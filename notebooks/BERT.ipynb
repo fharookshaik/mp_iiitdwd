{
 "cells": [
  {
   "cell_type": "code",
   "execution_count": 1,
   "metadata": {},
   "outputs": [
    {
     "name": "stdout",
     "output_type": "stream",
     "text": [
      "Python 3.9.7\n"
     ]
    }
   ],
   "source": [
    "!python --version"
   ]
  },
  {
   "cell_type": "code",
   "execution_count": 2,
   "metadata": {},
   "outputs": [],
   "source": [
    "import os\n",
    "import re\n",
    "from pathlib import Path\n",
    "import matplotlib.pyplot as plt\n",
    "import pandas as pd\n",
    "import numpy as np\n",
    "\n",
    "%matplotlib inline"
   ]
  },
  {
   "cell_type": "code",
   "execution_count": 3,
   "metadata": {},
   "outputs": [],
   "source": [
    "# Dataset Paths\n",
    "DATASET_PATH = Path(r'D:\\fharookshaik\\major_project\\dataset')\n",
    "TRAIN_IMAGES_DIR_PATH = os.path.join(DATASET_PATH,'Train','images')\n",
    "\n",
    "TRAIN_CSV_PATH = os.path.join(DATASET_PATH,'Train','train.csv')\n",
    "VALIDATE_CSV_PATH = os.path.join(DATASET_PATH,'Train','val.csv')\n",
    "\n",
    "TEST_IMAGES_DIR_PATH = os.path.join(DATASET_PATH,'Test','images')\n",
    "TEST_CSV_PATH = os.path.join(DATASET_PATH,'Test','test.csv')"
   ]
  },
  {
   "cell_type": "code",
   "execution_count": null,
   "metadata": {},
   "outputs": [],
   "source": []
  }
 ],
 "metadata": {
  "interpreter": {
   "hash": "3257ac3983cea818f6ddac19f6c46f2390f8fabff20a03e42a18f9c13bbbfc81"
  },
  "kernelspec": {
   "display_name": "Python 3.9.7 ('env': venv)",
   "language": "python",
   "name": "python3"
  },
  "language_info": {
   "codemirror_mode": {
    "name": "ipython",
    "version": 3
   },
   "file_extension": ".py",
   "mimetype": "text/x-python",
   "name": "python",
   "nbconvert_exporter": "python",
   "pygments_lexer": "ipython3",
   "version": "3.9.7"
  },
  "orig_nbformat": 4
 },
 "nbformat": 4,
 "nbformat_minor": 2
}
