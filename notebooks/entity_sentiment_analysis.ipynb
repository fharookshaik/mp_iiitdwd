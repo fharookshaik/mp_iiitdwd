{
 "cells": [
  {
   "cell_type": "code",
   "execution_count": null,
   "metadata": {},
   "outputs": [],
   "source": [
    "!python3 --version"
   ]
  },
  {
   "cell_type": "code",
   "execution_count": null,
   "metadata": {},
   "outputs": [],
   "source": [
    "import os\n",
    "from pathlib import Path"
   ]
  },
  {
   "cell_type": "code",
   "execution_count": null,
   "metadata": {},
   "outputs": [],
   "source": [
    "# Dataset Paths\n",
    "DATASET_PATH = Path('/mnt/DATA/fharookshaik/major_project/dataset')\n",
    "TRAIN_IMAGES_DIR_PATH = os.path.join(DATASET_PATH,'Train','images')\n",
    "\n",
    "TRAIN_CSV_PATH = os.path.join(DATASET_PATH,'Train','train.csv')\n",
    "VALIDATE_CSV_PATH = os.path.join(DATASET_PATH,'Train','val.csv')\n",
    "\n",
    "TEST_IMAGES_DIR_PATH = os.path.join(DATASET_PATH,'Test','images')\n",
    "TEST_CSV_PATH = os.path.join(DATASET_PATH,'Test','test.csv')"
   ]
  },
  {
   "cell_type": "code",
   "execution_count": null,
   "metadata": {},
   "outputs": [],
   "source": [
    "import pandas as pd"
   ]
  },
  {
   "cell_type": "code",
   "execution_count": null,
   "metadata": {},
   "outputs": [],
   "source": [
    "train_df = pd.read_csv(TRAIN_CSV_PATH)\n",
    "train_df.head()"
   ]
  },
  {
   "cell_type": "code",
   "execution_count": null,
   "metadata": {},
   "outputs": [],
   "source": [
    "train_df.isnull().sum()"
   ]
  },
  {
   "cell_type": "code",
   "execution_count": null,
   "metadata": {},
   "outputs": [],
   "source": [
    "# Dropping the data where OCR = NaN\n",
    "train_df.dropna(subset=['OCR'],inplace=True)"
   ]
  },
  {
   "cell_type": "code",
   "execution_count": null,
   "metadata": {},
   "outputs": [],
   "source": [
    "import contractions"
   ]
  },
  {
   "cell_type": "code",
   "execution_count": null,
   "metadata": {},
   "outputs": [],
   "source": [
    "fix_contr = lambda text: contractions.fix(text)"
   ]
  },
  {
   "cell_type": "code",
   "execution_count": null,
   "metadata": {},
   "outputs": [],
   "source": [
    "train_df['OCR'] = train_df['OCR'].apply(fix_contr)\n",
    "train_df.head()"
   ]
  },
  {
   "cell_type": "code",
   "execution_count": null,
   "metadata": {},
   "outputs": [],
   "source": [
    "train_df.fillna('null',inplace=True)\n",
    "train_df.head()"
   ]
  },
  {
   "cell_type": "code",
   "execution_count": null,
   "metadata": {},
   "outputs": [],
   "source": [
    "import numpy as np"
   ]
  },
  {
   "cell_type": "code",
   "execution_count": null,
   "metadata": {},
   "outputs": [],
   "source": [
    "def str_to_word_list(text):\n",
    "    if text != 'null':\n",
    "        # print(text)\n",
    "        text = text.strip('][').split(', ')\n",
    "        return [word.strip(\"\\'\") for word in text]\n",
    "    return None"
   ]
  },
  {
   "cell_type": "code",
   "execution_count": null,
   "metadata": {},
   "outputs": [],
   "source": [
    "entities = []\n",
    "enty_cols = ['hero','villain','victim','other']\n",
    "for idx,val in train_df.iterrows():\n",
    "    for enty in enty_cols:\n",
    "        # str_to_word_list(val.get(enty))\n",
    "        words = str_to_word_list(val.get(enty))\n",
    "        if words is not None:\n",
    "            for word in words:\n",
    "                entities.append(word)\n",
    "\n",
    "len(entities)"
   ]
  },
  {
   "cell_type": "code",
   "execution_count": null,
   "metadata": {},
   "outputs": [],
   "source": [
    "from textblob import TextBlob\n",
    "import nltk\n",
    "\n",
    "def get_keyword_sentences(text, keyword):\n",
    "    text = text.replace('\\n',' ')\n",
    "    sentences = nltk.sent_tokenize(text)\n",
    "\n",
    "    sent_of_interest = []\n",
    "    for sent in sentences:\n",
    "        if keyword in sent.lower():\n",
    "            sent_of_interest.append(sent)\n",
    "    return sent_of_interest if len(sent_of_interest) > 0 else False\n",
    "\n",
    "def get_sentiment(list_of_sent):\n",
    "    sentiment = 0\n",
    "    count = 0\n",
    "\n",
    "    if list_of_sent != False:\n",
    "        for sent in list_of_sent:\n",
    "            blob = TextBlob(sent)\n",
    "            sentiment += blob.sentiment.polarity\n",
    "            count += len(sent)\n",
    "    return sentiment/count if count!=0 else 0\n",
    "\n",
    "def extract_sentiment(df,keywords,top=10):\n",
    "    \"\"\"df: data for the cluster, keywords: ner for that cluster\"\"\"\n",
    "    print('Extracting Sentiments using TextBlob...')\n",
    "    # keywords = sorted(keywords.items(),key=lambda x: x[1],reverse=True)\n",
    "    sentiment_dict = {}\n",
    "    for keyword in keywords:\n",
    "        df['sentences'] = df['OCR'].apply(get_keyword_sentences,keyword=keyword.lower())\n",
    "        keyword_sentiment = df['sentences'].apply(get_sentiment).sum()\n",
    "        sentiment_dict[keyword] = keyword_sentiment\n",
    "    return sentiment_dict"
   ]
  },
  {
   "cell_type": "code",
   "execution_count": null,
   "metadata": {},
   "outputs": [],
   "source": [
    "extract_sentiment(train_df,entities)"
   ]
  },
  {
   "cell_type": "code",
   "execution_count": null,
   "metadata": {},
   "outputs": [],
   "source": [
    "nltk.download('punkt')"
   ]
  },
  {
   "cell_type": "code",
   "execution_count": null,
   "metadata": {},
   "outputs": [],
   "source": []
  }
 ],
 "metadata": {
  "interpreter": {
   "hash": "b72741bc5932591d6badf17861da1317ebcb4e571450efdeb22c460a5ff86182"
  },
  "kernelspec": {
   "display_name": "Python 3.8.10 ('env': venv)",
   "language": "python",
   "name": "python3"
  },
  "language_info": {
   "codemirror_mode": {
    "name": "ipython",
    "version": 3
   },
   "file_extension": ".py",
   "mimetype": "text/x-python",
   "name": "python",
   "nbconvert_exporter": "python",
   "pygments_lexer": "ipython3",
   "version": "3.8.10"
  },
  "orig_nbformat": 4
 },
 "nbformat": 4,
 "nbformat_minor": 2
}
